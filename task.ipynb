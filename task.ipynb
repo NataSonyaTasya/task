{
  "nbformat": 4,
  "nbformat_minor": 0,
  "metadata": {
    "colab": {
      "provenance": [],
      "authorship_tag": "ABX9TyOeUEcUBUw3xp63AA6iSd6S",
      "include_colab_link": true
    },
    "kernelspec": {
      "name": "python3",
      "display_name": "Python 3"
    },
    "language_info": {
      "name": "python"
    }
  },
  "cells": [
    {
      "cell_type": "markdown",
      "metadata": {
        "id": "view-in-github",
        "colab_type": "text"
      },
      "source": [
        "<a href=\"https://colab.research.google.com/github/NataSonyaTasya/task/blob/main/task.ipynb\" target=\"_parent\"><img src=\"https://colab.research.google.com/assets/colab-badge.svg\" alt=\"Open In Colab\"/></a>"
      ]
    },
    {
      "cell_type": "code",
      "execution_count": 2,
      "metadata": {
        "id": "1yPOkb6xxo8v"
      },
      "outputs": [],
      "source": [
        "def isEven(value): # Данное решение основано на свойстве четных чисел деление на 2 без остатка\n",
        "   return value % 2 == 0"
      ]
    },
    {
      "cell_type": "code",
      "source": [
        "isEven(3)"
      ],
      "metadata": {
        "colab": {
          "base_uri": "https://localhost:8080/"
        },
        "id": "C2Yk1P1M5238",
        "outputId": "bb6f54e9-b3ed-4b11-bc98-5310b70178a2"
      },
      "execution_count": 3,
      "outputs": [
        {
          "output_type": "execute_result",
          "data": {
            "text/plain": [
              "False"
            ]
          },
          "metadata": {},
          "execution_count": 3
        }
      ]
    },
    {
      "cell_type": "code",
      "source": [
        "def isEven_2(value): # данное решение основано на том, что в бинарном виде, самый правый символ у четных чисел 0, а у нечетных 1\n",
        "   return value & 1 == 0"
      ],
      "metadata": {
        "id": "B6rMOZQM5_OQ"
      },
      "execution_count": 4,
      "outputs": []
    },
    {
      "cell_type": "code",
      "source": [
        "import time #измерим время в секундах на рботу обеих версий"
      ],
      "metadata": {
        "id": "f00XZUyL7LbK"
      },
      "execution_count": 38,
      "outputs": []
    },
    {
      "cell_type": "code",
      "source": [
        "def time_avereg(function, num, value): # функции для оценки среднего времени выполнения кода, задается функция, количество повторов и значение самого числа\n",
        "  time_total=0\n",
        "  for i in range(num):\n",
        "      t_start = time.perf_counter()\n",
        "      function(value)\n",
        "      time_for_1=time.perf_counter() - t_start\n",
        "      time_total+=time_for_1\n",
        "  return time_total/num"
      ],
      "metadata": {
        "id": "vyB_6-Gl-nua"
      },
      "execution_count": 43,
      "outputs": []
    },
    {
      "cell_type": "code",
      "source": [
        "time_avereg(isEven, 100000, 342)# среднее время работы первой версии"
      ],
      "metadata": {
        "colab": {
          "base_uri": "https://localhost:8080/"
        },
        "id": "oGuqilSH_3zV",
        "outputId": "e8708486-96d4-41c5-ca75-fdb45d605ac5"
      },
      "execution_count": 61,
      "outputs": [
        {
          "output_type": "execute_result",
          "data": {
            "text/plain": [
              "6.698870100007248e-07"
            ]
          },
          "metadata": {},
          "execution_count": 61
        }
      ]
    },
    {
      "cell_type": "code",
      "source": [
        "time_avereg(isEven_2, 100000, 342)#среднее время работы второй версии"
      ],
      "metadata": {
        "colab": {
          "base_uri": "https://localhost:8080/"
        },
        "id": "PVpnZQyfAAGU",
        "outputId": "566145d0-25cb-47ee-bcd7-93469fef9574"
      },
      "execution_count": 62,
      "outputs": [
        {
          "output_type": "execute_result",
          "data": {
            "text/plain": [
              "6.601677399948791e-07"
            ]
          },
          "metadata": {},
          "execution_count": 62
        }
      ]
    },
    {
      "cell_type": "markdown",
      "source": [
        "Применение кода несолько раз показывает, что в целом по времени выполнения данные варианты равнозначны"
      ],
      "metadata": {
        "id": "DkXiywCv-WBV"
      }
    },
    {
      "cell_type": "markdown",
      "source": [
        "**Буфер FIFO**"
      ],
      "metadata": {
        "id": "GpdFgIg76myA"
      }
    },
    {
      "cell_type": "code",
      "source": [
        "class BufferFIFO: # первый вариант, используются списки\n",
        "    def __init__(self, buffer_size: int):\n",
        "        self.data = [None for i in range(buffer_size)] #создает пустой список нужной длинны\n",
        "        self.size = buffer_size\n",
        "    def put(self,value): # функция добавления данных\n",
        "        if self.data[-1] == None: #если нет данных просто заменияем последнее значение\n",
        "           self.data[-1] = value\n",
        "        else:\n",
        "               if self.data[0] != None:\n",
        "                  print(\"значение \", self.data[0], \" удалено\") #печатает значение удаляемой ячейки. Удаляется значение подаваемое первым\n",
        "               self.data=self.data[1:]\n",
        "               self.data.append(value)\n",
        "    def get(self): # выводит весь список\n",
        "        return self.data\n",
        "    def pop(self): # удаление элемента, первым удаляется первфый вошедший\n",
        "      for i in range(self.size):\n",
        "        if self.data[i] != None:\n",
        "          self.data[i]=None\n",
        "          break"
      ],
      "metadata": {
        "id": "iaSWnjtl-NPJ"
      },
      "execution_count": 144,
      "outputs": []
    },
    {
      "cell_type": "code",
      "source": [
        "buf = BufferFIFO(4) #Проверка работы\n",
        "for i in range(10):\n",
        "    buf.put([i,3+i,i-4])\n",
        "    print(buf.get())"
      ],
      "metadata": {
        "colab": {
          "base_uri": "https://localhost:8080/"
        },
        "id": "WtqxOGquEF0i",
        "outputId": "893277c4-0986-45d7-8670-1db4bc4134a4"
      },
      "execution_count": 145,
      "outputs": [
        {
          "output_type": "stream",
          "name": "stdout",
          "text": [
            "[None, None, None, [0, 3, -4]]\n",
            "[None, None, [0, 3, -4], [1, 4, -3]]\n",
            "[None, [0, 3, -4], [1, 4, -3], [2, 5, -2]]\n",
            "[[0, 3, -4], [1, 4, -3], [2, 5, -2], [3, 6, -1]]\n",
            "значение  [0, 3, -4]  удалено\n",
            "[[1, 4, -3], [2, 5, -2], [3, 6, -1], [4, 7, 0]]\n",
            "значение  [1, 4, -3]  удалено\n",
            "[[2, 5, -2], [3, 6, -1], [4, 7, 0], [5, 8, 1]]\n",
            "значение  [2, 5, -2]  удалено\n",
            "[[3, 6, -1], [4, 7, 0], [5, 8, 1], [6, 9, 2]]\n",
            "значение  [3, 6, -1]  удалено\n",
            "[[4, 7, 0], [5, 8, 1], [6, 9, 2], [7, 10, 3]]\n",
            "значение  [4, 7, 0]  удалено\n",
            "[[5, 8, 1], [6, 9, 2], [7, 10, 3], [8, 11, 4]]\n",
            "значение  [5, 8, 1]  удалено\n",
            "[[6, 9, 2], [7, 10, 3], [8, 11, 4], [9, 12, 5]]\n"
          ]
        }
      ]
    },
    {
      "cell_type": "code",
      "source": [
        "buf.pop()"
      ],
      "metadata": {
        "id": "1Aj6MO1nR0JG"
      },
      "execution_count": 146,
      "outputs": []
    },
    {
      "cell_type": "code",
      "source": [
        "buf.get()"
      ],
      "metadata": {
        "id": "WPZtPLMrSN0R",
        "outputId": "0d0724f3-d504-4da0-cad6-c25999cacda3",
        "colab": {
          "base_uri": "https://localhost:8080/"
        }
      },
      "execution_count": 147,
      "outputs": [
        {
          "output_type": "execute_result",
          "data": {
            "text/plain": [
              "[None, [7, 10, 3], [8, 11, 4], [9, 12, 5]]"
            ]
          },
          "metadata": {},
          "execution_count": 147
        }
      ]
    },
    {
      "cell_type": "code",
      "source": [
        "from collections import deque\n",
        "\n"
      ],
      "metadata": {
        "id": "xR3Z0r0EPbYq"
      },
      "execution_count": 226,
      "outputs": []
    },
    {
      "cell_type": "code",
      "source": [
        "\n",
        "class FIFOBuffer:# второй вариант буфера с двусторонней очередью\n",
        "    def __init__(self, max_size: int):\n",
        "        self.max_size = max_size\n",
        "        self.data = deque([])\n",
        "    def put(self, value): #добавление данных\n",
        "         if len(self.data) == self.max_size:\n",
        "            print(\"значение \", self.data[0], \" удалено\") #печатает значение удаляемой ячейки. Удаляется значение подаваемое первым\n",
        "            self.data.popleft()\n",
        "         self.data.append(value)\n",
        "    def get(self): # выводит весь список\n",
        "        return self.data\n",
        "    def pop(self): # удаляет одно значенее более раннее\n",
        "        self.data.popleft()\n",
        "\n"
      ],
      "metadata": {
        "id": "PMICFXt0EgPh"
      },
      "execution_count": 249,
      "outputs": []
    },
    {
      "cell_type": "code",
      "source": [
        "buf = FIFOBuffer(4) #Проверка работы\n",
        "for i in range(10):\n",
        "    buf.put([i,3+i,i-4])\n",
        "    print(buf.get())"
      ],
      "metadata": {
        "id": "SiInvvgvXPI9",
        "outputId": "b9625b46-a3af-4690-a9f8-f5c2e1f6d8d0",
        "colab": {
          "base_uri": "https://localhost:8080/"
        }
      },
      "execution_count": 250,
      "outputs": [
        {
          "output_type": "stream",
          "name": "stdout",
          "text": [
            "deque([[0, 3, -4]])\n",
            "deque([[0, 3, -4], [1, 4, -3]])\n",
            "deque([[0, 3, -4], [1, 4, -3], [2, 5, -2]])\n",
            "deque([[0, 3, -4], [1, 4, -3], [2, 5, -2], [3, 6, -1]])\n",
            "значение  [0, 3, -4]  удалено\n",
            "deque([[1, 4, -3], [2, 5, -2], [3, 6, -1], [4, 7, 0]])\n",
            "значение  [1, 4, -3]  удалено\n",
            "deque([[2, 5, -2], [3, 6, -1], [4, 7, 0], [5, 8, 1]])\n",
            "значение  [2, 5, -2]  удалено\n",
            "deque([[3, 6, -1], [4, 7, 0], [5, 8, 1], [6, 9, 2]])\n",
            "значение  [3, 6, -1]  удалено\n",
            "deque([[4, 7, 0], [5, 8, 1], [6, 9, 2], [7, 10, 3]])\n",
            "значение  [4, 7, 0]  удалено\n",
            "deque([[5, 8, 1], [6, 9, 2], [7, 10, 3], [8, 11, 4]])\n",
            "значение  [5, 8, 1]  удалено\n",
            "deque([[6, 9, 2], [7, 10, 3], [8, 11, 4], [9, 12, 5]])\n"
          ]
        }
      ]
    },
    {
      "cell_type": "code",
      "source": [
        "buf.pop()"
      ],
      "metadata": {
        "id": "cWo2JKmwaLcR"
      },
      "execution_count": 251,
      "outputs": []
    },
    {
      "cell_type": "code",
      "source": [
        "buf.get()"
      ],
      "metadata": {
        "id": "k9uTi-U1aTjn",
        "outputId": "1649a946-7b96-4955-ea67-ffb47e4b92ee",
        "colab": {
          "base_uri": "https://localhost:8080/"
        }
      },
      "execution_count": 252,
      "outputs": [
        {
          "output_type": "execute_result",
          "data": {
            "text/plain": [
              "deque([[7, 10, 3], [8, 11, 4], [9, 12, 5]])"
            ]
          },
          "metadata": {},
          "execution_count": 252
        }
      ]
    },
    {
      "cell_type": "code",
      "source": [
        "def check_buf(function,max_len): # функция, проверяющая работу буфера,которая потребуется для проверки быстродействия\n",
        "    t_start = time.process_time()\n",
        "    buf= function(max_len)\n",
        "    for i in range(max_len):\n",
        "       buf.put(i)\n",
        "    buf.pop()\n",
        "    buf.pop()\n",
        "    return time.process_time() - t_start"
      ],
      "metadata": {
        "id": "-njqOc6zbw6b"
      },
      "execution_count": 268,
      "outputs": []
    },
    {
      "cell_type": "code",
      "source": [
        "check_buf(BufferFIFO,4)"
      ],
      "metadata": {
        "id": "LfvSWcyCdAsN",
        "outputId": "81507a7d-14fa-4bef-92d9-43a943d33991",
        "colab": {
          "base_uri": "https://localhost:8080/"
        }
      },
      "execution_count": 271,
      "outputs": [
        {
          "output_type": "execute_result",
          "data": {
            "text/plain": [
              "2.0487000000457556e-05"
            ]
          },
          "metadata": {},
          "execution_count": 271
        }
      ]
    },
    {
      "cell_type": "code",
      "source": [
        "check_buf(FIFOBuffer,4)"
      ],
      "metadata": {
        "id": "oMqLahyydmhX",
        "outputId": "2ad591d3-25f6-47b1-d181-da63b9dd0424",
        "colab": {
          "base_uri": "https://localhost:8080/"
        }
      },
      "execution_count": 272,
      "outputs": [
        {
          "output_type": "execute_result",
          "data": {
            "text/plain": [
              "1.828500000300437e-05"
            ]
          },
          "metadata": {},
          "execution_count": 272
        }
      ]
    },
    {
      "cell_type": "markdown",
      "source": [
        "Двусторонняя очередь deque()  предподчительнее по быстродействию, т.к.обладает одиноковой эффективность в любых направлениях.\n",
        "\n",
        "Списки поддерживают аналогичные операции, но они оптимизирован только для быстрых операций с последовательностями фиксированной длины и дополнительных затрат времени при операциях например pop(0). Таким образом второй вариант лучше."
      ],
      "metadata": {
        "id": "EqIwiMymbCdg"
      }
    },
    {
      "cell_type": "markdown",
      "source": [
        "**Сортировка**"
      ],
      "metadata": {
        "id": "p3EfThl0obmf"
      }
    },
    {
      "cell_type": "markdown",
      "source": [
        "оптимальным считается сортировка с разделением по одному, например центральному элементу на 2 части и сравнение элементов с этим выбранным значением."
      ],
      "metadata": {
        "id": "-rTwJ4-x7JJ1"
      }
    },
    {
      "cell_type": "code",
      "source": [
        "def partition(nums, low, high):\n",
        "    # Выбираем средний элемент в качестве опорного\n",
        "    pivot = nums[(low + high) // 2]\n",
        "    i = low - 1\n",
        "\n",
        "    j = high + 1\n",
        "    while True:\n",
        "        i += 1\n",
        "        while nums[i] < pivot:\n",
        "            i += 1\n",
        "        j -= 1\n",
        "        while nums[j] > pivot:\n",
        "            j -= 1\n",
        "        if i >= j:\n",
        "            return j\n",
        "\n",
        "        # Если элемент с индексом i (слева от опорного) больше, чем\n",
        "        # элемент с индексом j (справа от опорного), меняем их местами\n",
        "        nums[i], nums[j] = nums[j], nums[i]\n",
        "def quick_sort(nums):\n",
        "    # Создадим вспомогательную функцию, которая вызывается рекурсивно\n",
        "    def _quick_sort(items, low, high):\n",
        "        if low < high:\n",
        "            split_index = partition(items, low, high)\n",
        "            _quick_sort(items, low, split_index)\n",
        "            _quick_sort(items, split_index + 1, high)\n",
        "\n",
        "    _quick_sort(nums, 0, len(nums) - 1)\n",
        "\n",
        "# Проверяем, что оно работает\n"
      ],
      "metadata": {
        "id": "BdQG1-8HbCE2"
      },
      "execution_count": 56,
      "outputs": []
    },
    {
      "cell_type": "code",
      "source": [
        "random_list_of_nums = [722,67,78,0,-8,-1, 18, 9]\n",
        "quick_sort(random_list_of_nums)\n",
        "print(random_list_of_nums)"
      ],
      "metadata": {
        "id": "u73rcDDpsXt6",
        "outputId": "40d35fa9-fd86-4fbf-e711-949b3b921f13",
        "colab": {
          "base_uri": "https://localhost:8080/"
        }
      },
      "execution_count": 57,
      "outputs": [
        {
          "output_type": "stream",
          "name": "stdout",
          "text": [
            "[-8, -1, 0, 9, 18, 67, 78, 722]\n"
          ]
        }
      ]
    },
    {
      "cell_type": "code",
      "source": [
        "time_avereg(quick_sort, 1000, [8,89,-9,78,100,7]) # метод опорного элемента"
      ],
      "metadata": {
        "id": "KffXk3ai3u8M",
        "outputId": "df65f0ee-449c-4b06-bfc9-57d25138646d",
        "colab": {
          "base_uri": "https://localhost:8080/"
        }
      },
      "execution_count": 66,
      "outputs": [
        {
          "output_type": "execute_result",
          "data": {
            "text/plain": [
              "9.060479009349365e-06"
            ]
          },
          "metadata": {},
          "execution_count": 66
        }
      ]
    },
    {
      "cell_type": "code",
      "source": [
        "time_avereg(quick_sort, 1000, [1,8,9,78,100,700])"
      ],
      "metadata": {
        "id": "FUnKbZmtLnjg",
        "outputId": "93bf09b6-ff72-40d7-e1fe-b70b2a56e3ec",
        "colab": {
          "base_uri": "https://localhost:8080/"
        }
      },
      "execution_count": 67,
      "outputs": [
        {
          "output_type": "execute_result",
          "data": {
            "text/plain": [
              "7.090626979334047e-06"
            ]
          },
          "metadata": {},
          "execution_count": 67
        }
      ]
    },
    {
      "cell_type": "code",
      "source": [
        "time_avereg(sorted, 1000, [8,89,-9,78,100,7]) # готовая функция сортировки"
      ],
      "metadata": {
        "id": "psLo6SBH4oI5",
        "outputId": "f0b98fa2-039d-4b3a-8caa-b81732e660d0",
        "colab": {
          "base_uri": "https://localhost:8080/"
        }
      },
      "execution_count": 63,
      "outputs": [
        {
          "output_type": "execute_result",
          "data": {
            "text/plain": [
              "6.386670211213641e-07"
            ]
          },
          "metadata": {},
          "execution_count": 63
        }
      ]
    },
    {
      "cell_type": "code",
      "source": [
        "time_avereg(sorted, 1000, [1,8,9,78,100,700]) # готовая функция сортировки"
      ],
      "metadata": {
        "id": "B9yVGwB7LsvM",
        "outputId": "3da42a92-9754-4081-953b-3c7ee661ab21",
        "colab": {
          "base_uri": "https://localhost:8080/"
        }
      },
      "execution_count": 68,
      "outputs": [
        {
          "output_type": "execute_result",
          "data": {
            "text/plain": [
              "5.429560551419855e-07"
            ]
          },
          "metadata": {},
          "execution_count": 68
        }
      ]
    },
    {
      "cell_type": "markdown",
      "source": [
        "В среднем время выполнения быстрой сортировки путем деления списка пополам по опорному элементусоставляет O(n log n), если опорный элемент равен наименьшему или наибольшему элементам списка  будет выполняться O(n²)."
      ],
      "metadata": {
        "id": "ezihy13vMLkG"
      }
    }
  ]
}